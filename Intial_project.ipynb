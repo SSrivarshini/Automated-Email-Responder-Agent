# Install required libraries
!pip install transformers datasets --quiet

from transformers import pipeline
import pandas as pd

# 1. Load your dataset CSV 
df = pd.read_csv('email_dataset.csv')

# 2. Initialize zero-shot classification pipeline (uses a pretrained model)
classifier = pipeline('zero-shot-classification', model='facebook/bart-large-mnli')

# 3. Define candidate labels (categories)
candidate_labels = ['spam', 'inquiry', 'complaint', 'support']

# 4. Define simple responses for each category
responses = {
    'spam': "This email seems like spam. No action needed.",
    'inquiry': "Thank you for your inquiry. We will get back to you shortly.",
    'complaint': "We're sorry for the inconvenience. Your complaint has been noted.",
    'support': "Our support team will assist you with your issue shortly."
}

# 5. Create lists to store predictions and responses
predicted_labels = []
generated_responses = []

# 6. Classify each email and generate response
for email in df['text']:
    result = classifier(email, candidate_labels)
    label = result['labels'][0]  # top predicted category
    predicted_labels.append(label)
    generated_responses.append(responses[label])

# 7. Add predicted labels and generated responses to dataframe
df['predicted_label'] = predicted_labels
df['generated_response'] = generated_responses

# 8. Display all results (you can save this to CSV if needed)
print(df)

# Optional: save to CSV
df.to_csv('email_predictions_with_responses.csv', index=False)
print("Saved predictions and responses to 'email_predictions_with_responses.csv'")
