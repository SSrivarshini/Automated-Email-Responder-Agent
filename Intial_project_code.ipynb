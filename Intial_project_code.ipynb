{
  "nbformat": 4,
  "nbformat_minor": 0,
  "metadata": {
    "colab": {
      "provenance": []
    },
    "kernelspec": {
      "name": "python3",
      "display_name": "Python 3"
    },
    "language_info": {
      "name": "python"
    }
  },
  "cells": [
    {
      "cell_type": "code",
      "execution_count": null,
      "metadata": {
        "id": "Wy9NRn7ofsXS"
      },
      "outputs": [],
      "source": [
        "# Install required libraries\n",
        "!pip install transformers datasets --quiet\n",
        "\n",
        "from transformers import pipeline\n",
        "import pandas as pd\n",
        "\n",
        "# 1. Load your dataset CSV\n",
        "df = pd.read_csv('email_dataset.csv')\n",
        "\n",
        "# 2. Initialize zero-shot classification pipeline (uses a pretrained model)\n",
        "classifier = pipeline('zero-shot-classification', model='facebook/bart-large-mnli')\n",
        "\n",
        "# 3. Define candidate labels (categories)\n",
        "candidate_labels = ['spam', 'inquiry', 'complaint', 'support']\n",
        "\n",
        "# 4. Define simple responses for each category\n",
        "responses = {\n",
        "    'spam': \"This email seems like spam. No action needed.\",\n",
        "    'inquiry': \"Thank you for your inquiry. We will get back to you shortly.\",\n",
        "    'complaint': \"We're sorry for the inconvenience. Your complaint has been noted.\",\n",
        "    'support': \"Our support team will assist you with your issue shortly.\"\n",
        "}\n",
        "\n",
        "# 5. Create lists to store predictions and responses\n",
        "predicted_labels = []\n",
        "generated_responses = []\n",
        "\n",
        "# 6. Classify each email and generate response\n",
        "for email in df['text']:\n",
        "    result = classifier(email, candidate_labels)\n",
        "    label = result['labels'][0]  # top predicted category\n",
        "    predicted_labels.append(label)\n",
        "    generated_responses.append(responses[label])\n",
        "\n",
        "# 7. Add predicted labels and generated responses to dataframe\n",
        "df['predicted_label'] = predicted_labels\n",
        "df['generated_response'] = generated_responses\n",
        "\n",
        "# 8. Display all results (you can save this to CSV if needed)\n",
        "print(df)\n",
        "\n",
        "# Optional: save to CSV\n",
        "df.to_csv('email_predictions_with_responses.csv', index=False)\n",
        "print(\"Saved predictions and responses to 'email_predictions_with_responses.csv'\")"
      ]
    }
  ]
}